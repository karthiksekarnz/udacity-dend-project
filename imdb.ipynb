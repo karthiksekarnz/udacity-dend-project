{
 "cells": [
  {
   "cell_type": "code",
   "execution_count": 1,
   "metadata": {
    "editable": true
   },
   "outputs": [],
   "source": [
    "import os\n",
    "import configparser\n",
    "import numpy as np\n",
    "from datetime import datetime \n",
    "from pyspark.sql import SparkSession\n",
    "from pyspark.sql.functions import *\n",
    "from pyspark.sql.functions import udf, col, monotonically_increasing_id, collect_list\n",
    "from pyspark.sql.types import TimestampType, IntegerType\n",
    "from pyspark.sql.functions import year, month, dayofmonth, hour, weekofyear, dayofweek"
   ]
  },
  {
   "cell_type": "code",
   "execution_count": 2,
   "metadata": {
    "editable": true
   },
   "outputs": [],
   "source": [
    "config = configparser.ConfigParser()\n",
    "config.read('settings.cfg')\n",
    "\n",
    "os.environ['AWS_ACCESS_KEY_ID'] = config.get('KEYS', 'AWS_ACCESS_KEY_ID')\n",
    "os.environ['AWS_SECRET_ACCESS_KEY'] = config.get('KEYS', 'AWS_SECRET_ACCESS_KEY')\n",
    "input_dir = config.get('FILES', 'INPUT_DIR')\n",
    "output_dir = config.get('FILES', 'OUTPUT_DIR')\n",
    "current_year = datetime.now().year\n",
    "filter_by_region = config.get('FILTERS', 'region')\n",
    "\n",
    "imdb_input = input_dir + \"/imdb\"\n",
    "tmdb_input = input_dir + \"/tmdb\""
   ]
  },
  {
   "cell_type": "code",
   "execution_count": 3,
   "metadata": {
    "editable": true
   },
   "outputs": [],
   "source": [
    "spark = SparkSession \\\n",
    "        .builder \\\n",
    "        .config(\"spark.jars.packages\", \"org.apache.hadoop:hadoop-aws:2.7.0\") \\\n",
    "        .getOrCreate()"
   ]
  },
  {
   "cell_type": "code",
   "execution_count": 4,
   "metadata": {
    "editable": true
   },
   "outputs": [],
   "source": [
    "spark.conf.set(\"spark.sql.autoBroadcastJoinThreshold\", -1)"
   ]
  },
  {
   "cell_type": "code",
   "execution_count": 5,
   "metadata": {
    "editable": true
   },
   "outputs": [],
   "source": [
    "#Basic title\n",
    "imdb_titles_df = spark.read.options(header=True, inferSchema=True, nullValue=\"\\\\N\") \\\n",
    "        .csv(imdb_input + '/title.basics.tsv.gz', sep='\\t')"
   ]
  },
  {
   "cell_type": "code",
   "execution_count": 6,
   "metadata": {
    "editable": true
   },
   "outputs": [],
   "source": [
    "imdb_movie_titles_df = imdb_titles_df.select(\n",
    "    col(\"tconst\").alias(\"title_id\"),\n",
    "    col(\"titleType\").alias(\"title_type\"),\n",
    "    col(\"primaryTitle\").alias(\"primary_title\"),\n",
    "    col(\"originalTitle\").alias(\"original_title\"),\n",
    "    col(\"genres\"),\n",
    "    col(\"runtimeMinutes\").alias(\"runtime\"),\n",
    "    col(\"isAdult\").alias(\"is_adult\"),\n",
    "    col(\"startYear\").alias(\"start_year\"),\n",
    "    col(\"endYear\").alias(\"end_year\")\n",
    ")"
   ]
  },
  {
   "cell_type": "code",
   "execution_count": 7,
   "metadata": {
    "editable": true
   },
   "outputs": [],
   "source": [
    "imdb_movie_titles_df = imdb_movie_titles_df.filter((imdb_titles_df.titleType == 'movie') & (imdb_titles_df['isAdult'] == '0'))"
   ]
  },
  {
   "cell_type": "code",
   "execution_count": 8,
   "metadata": {
    "editable": true
   },
   "outputs": [],
   "source": [
    "imdb_title_akas_df = spark.read.options(header=True, inferSchema=True, nullValue=\"\\\\N\") \\\n",
    "    .csv(imdb_input + '/title.akas.tsv.gz', sep='\\t')"
   ]
  },
  {
   "cell_type": "code",
   "execution_count": 9,
   "metadata": {
    "editable": true
   },
   "outputs": [],
   "source": [
    "movies_titles = imdb_movie_titles_df \\\n",
    "    .join(imdb_title_akas_df, imdb_movie_titles_df.title_id == imdb_title_akas_df.titleId, \"left\") \\\n",
    "    .select(col(\"titleId\").alias(\"imdb_title_id\"),\n",
    "            imdb_title_akas_df.title,\n",
    "            \"language\",\n",
    "            \"region\",\n",
    "            \"is_adult\",\n",
    "            \"start_year\",\n",
    "            ).distinct()"
   ]
  },
  {
   "cell_type": "code",
   "execution_count": 10,
   "metadata": {
    "editable": true
   },
   "outputs": [],
   "source": [
    "movies_titles = movies_titles.filter((col(\"language\") == \"en\") & col(\"region\").isNotNull() & col(\"start_year\").isNotNull())"
   ]
  },
  {
   "cell_type": "code",
   "execution_count": 11,
   "metadata": {
    "editable": true
   },
   "outputs": [
    {
     "name": "stdout",
     "output_type": "stream",
     "text": [
      "root\n",
      " |-- imdb_title_id: string (nullable = true)\n",
      " |-- title: string (nullable = true)\n",
      " |-- language: string (nullable = true)\n",
      " |-- region: string (nullable = true)\n",
      " |-- is_adult: integer (nullable = true)\n",
      " |-- start_year: integer (nullable = true)\n",
      "\n"
     ]
    }
   ],
   "source": [
    "filter_by_region = config.get('FILTERS', 'region')\n",
    "filter_by_year = config.get('FILTERS', 'year')\n",
    "\n",
    "condition = None\n",
    "\n",
    "if filter_by_year and filter_by_region:\n",
    "    condition = \"start_year == {0} and region == {1}\".format(filter_by_year, filter_by_region)\n",
    "\n",
    "elif filter_by_region and not filter_by_year:\n",
    "    condition = \"region == {0}\".format(filter_by_region)\n",
    "\n",
    "elif filter_by_year and not filter_by_region:\n",
    "    condition = \"start_year == {0}\".format(filter_by_year)\n",
    "\n",
    "if condition is not None:\n",
    "    movies_titles = movies_titles.filter(condition)\n",
    "    \n",
    "movies_titles.printSchema()"
   ]
  },
  {
   "cell_type": "code",
   "execution_count": 12,
   "metadata": {
    "editable": true
   },
   "outputs": [],
   "source": [
    "movies_titles.write.partitionBy(\"region\", \"start_year\").format(\"parquet\") \\\n",
    "        .save(output_dir + '/movies_titles', mode=\"overwrite\")"
   ]
  },
  {
   "cell_type": "code",
   "execution_count": 13,
   "metadata": {
    "editable": true
   },
   "outputs": [],
   "source": [
    "#TMDB movies list\n",
    "tmdb_movies_df = spark.read.options(inferSchema=True, nullValue=\"\\\\N\").json(tmdb_input+'/movies_list', multiLine=True)"
   ]
  },
  {
   "cell_type": "code",
   "execution_count": 14,
   "metadata": {
    "editable": true
   },
   "outputs": [],
   "source": [
    "tmdb_movies = tmdb_movies_df.select(\"id\", \"imdb_id\", \"revenue\", \"budget\", \"overview\", \"popularity\", \"release_date\", \"status\", \"vote_average\", \"vote_count\")"
   ]
  },
  {
   "cell_type": "code",
   "execution_count": 16,
   "metadata": {
    "editable": true
   },
   "outputs": [],
   "source": [
    "tmdb_movies.write.format(\"parquet\") \\\n",
    "        .save(output_dir + '/tmdb_movies', mode=\"overwrite\")"
   ]
  },
  {
   "cell_type": "code",
   "execution_count": 17,
   "metadata": {
    "editable": true
   },
   "outputs": [],
   "source": [
    "tmdb_movies_df= spark.read.parquet(output_dir + '/tmdb_movies')"
   ]
  },
  {
   "cell_type": "code",
   "execution_count": 18,
   "metadata": {
    "editable": true
   },
   "outputs": [
    {
     "name": "stdout",
     "output_type": "stream",
     "text": [
      "root\n",
      " |-- id: long (nullable = true)\n",
      " |-- imdb_id: string (nullable = true)\n",
      " |-- revenue: long (nullable = true)\n",
      " |-- budget: long (nullable = true)\n",
      " |-- overview: string (nullable = true)\n",
      " |-- popularity: double (nullable = true)\n",
      " |-- release_date: string (nullable = true)\n",
      " |-- status: string (nullable = true)\n",
      " |-- vote_average: double (nullable = true)\n",
      " |-- vote_count: long (nullable = true)\n",
      "\n"
     ]
    }
   ],
   "source": [
    "tmdb_movies.printSchema()"
   ]
  },
  {
   "cell_type": "code",
   "execution_count": 19,
   "metadata": {
    "editable": true
   },
   "outputs": [],
   "source": [
    "movies_titles_df = spark.read.parquet(output_dir + '/movies_titles')"
   ]
  },
  {
   "cell_type": "code",
   "execution_count": 20,
   "metadata": {
    "editable": true
   },
   "outputs": [
    {
     "name": "stdout",
     "output_type": "stream",
     "text": [
      "root\n",
      " |-- imdb_title_id: string (nullable = true)\n",
      " |-- title: string (nullable = true)\n",
      " |-- language: string (nullable = true)\n",
      " |-- is_adult: integer (nullable = true)\n",
      " |-- region: string (nullable = true)\n",
      " |-- start_year: integer (nullable = true)\n",
      "\n"
     ]
    }
   ],
   "source": [
    "movies_titles_df.printSchema()"
   ]
  },
  {
   "cell_type": "code",
   "execution_count": 21,
   "metadata": {
    "editable": true
   },
   "outputs": [
    {
     "name": "stdout",
     "output_type": "stream",
     "text": [
      "root\n",
      " |-- imdb_title_id: string (nullable = true)\n",
      " |-- title: string (nullable = true)\n",
      " |-- original_title: string (nullable = true)\n",
      " |-- primary_title: string (nullable = true)\n",
      " |-- is_original_title: integer (nullable = true)\n",
      " |-- ordering: integer (nullable = true)\n",
      " |-- genres: string (nullable = true)\n",
      " |-- language: string (nullable = true)\n",
      " |-- region: string (nullable = true)\n",
      " |-- overview: string (nullable = true)\n",
      " |-- start_year: integer (nullable = true)\n",
      " |-- runtime: string (nullable = true)\n",
      " |-- release_date: string (nullable = true)\n",
      "\n"
     ]
    }
   ],
   "source": [
    "#Movie details\n",
    "\n",
    "imdb_movie_titles_df = imdb_titles_df.select(\n",
    "    col(\"tconst\").alias(\"imdb_title_id\"),\n",
    "    col(\"titleType\").alias(\"title_type\"),\n",
    "    col(\"primaryTitle\").alias(\"primary_title\"),\n",
    "    col(\"originalTitle\").alias(\"original_title\"),\n",
    "    col(\"genres\"),\n",
    "    col(\"runtimeMinutes\").alias(\"runtime\"),\n",
    "    col(\"isAdult\").alias(\"is_adult\"),\n",
    "    col(\"startYear\").alias(\"start_year\"),\n",
    ")\n",
    "\n",
    "imdb_movie_titles_df = imdb_movie_titles_df.filter((imdb_movie_titles_df['title_type'] == 'movie') & (imdb_movie_titles_df['is_adult'] == '0'))\n",
    "\n",
    "# movies_details query combining imdb & tmdb movies\n",
    "movies_details = imdb_movie_titles_df \\\n",
    "    .join(imdb_title_akas_df, imdb_movie_titles_df.imdb_title_id == imdb_title_akas_df.titleId, \"left\")\\\n",
    "    .join(tmdb_movies_df, imdb_movie_titles_df.imdb_title_id == tmdb_movies_df.imdb_id, \"left\") \\\n",
    "    .select(\n",
    "        \"imdb_title_id\",\n",
    "        imdb_title_akas_df.title,\n",
    "        imdb_movie_titles_df.original_title,\n",
    "        imdb_movie_titles_df.primary_title,\n",
    "        col(\"isOriginalTitle\").alias(\"is_original_title\"),\n",
    "        imdb_title_akas_df.ordering,\n",
    "        imdb_movie_titles_df.genres,\n",
    "        imdb_title_akas_df.language,\n",
    "        imdb_title_akas_df.region,\n",
    "        tmdb_movies_df.overview,\n",
    "        imdb_movie_titles_df.start_year,\n",
    "        imdb_movie_titles_df.runtime,\n",
    "        tmdb_movies_df.release_date\n",
    ")\n",
    "\n",
    "filter_by_region = config.get('FILTERS', 'region')\n",
    "filter_by_year = config.get('FILTERS', 'year')\n",
    "\n",
    "condition = None\n",
    "\n",
    "if filter_by_year and filter_by_region:\n",
    "    condition = \"start_year == {0} and region == {1}\".format(filter_by_year, filter_by_region)\n",
    "\n",
    "elif filter_by_region and not filter_by_year:\n",
    "    condition = \"region == {0}\".format(filter_by_region)\n",
    "\n",
    "elif filter_by_year and not filter_by_region:\n",
    "    condition = \"start_year == {0}\".format(filter_by_year)\n",
    "\n",
    "if condition is not None:\n",
    "    movies_details = movies_details.filter(condition)\n",
    "    \n",
    "movies_details.printSchema()"
   ]
  },
  {
   "cell_type": "code",
   "execution_count": 22,
   "metadata": {
    "editable": true
   },
   "outputs": [],
   "source": [
    "# movies_details table parquet\n",
    "movies_details.write.partitionBy(\"region\", \"start_year\").format(\"parquet\").save(output_dir + '/movies_titles_details', mode=\"overwrite\")"
   ]
  },
  {
   "cell_type": "code",
   "execution_count": 23,
   "metadata": {
    "editable": true
   },
   "outputs": [
    {
     "name": "stdout",
     "output_type": "stream",
     "text": [
      "root\n",
      " |-- tconst: string (nullable = true)\n",
      " |-- averageRating: double (nullable = true)\n",
      " |-- numVotes: integer (nullable = true)\n",
      "\n"
     ]
    }
   ],
   "source": [
    "#IMDB ratings DF\n",
    "imdb_ratings_df = spark.read.options(header=True, inferSchema=True, nullValue=\"\\\\N\").csv(imdb_input + '/title.ratings.tsv.gz', sep='\\t')\n",
    "imdb_ratings_df.printSchema()"
   ]
  },
  {
   "cell_type": "code",
   "execution_count": 24,
   "metadata": {
    "editable": true
   },
   "outputs": [
    {
     "name": "stdout",
     "output_type": "stream",
     "text": [
      "root\n",
      " |-- imdb_title_id: string (nullable = true)\n",
      " |-- title: string (nullable = true)\n",
      " |-- region: string (nullable = true)\n",
      " |-- language: string (nullable = true)\n",
      " |-- start_year: integer (nullable = true)\n",
      " |-- imdb_total_votes: integer (nullable = true)\n",
      " |-- imdb_avg_rating: double (nullable = true)\n",
      " |-- tmdb_total_votes: long (nullable = true)\n",
      " |-- tmdb_avg_rating: double (nullable = true)\n",
      "\n"
     ]
    }
   ],
   "source": [
    "movies_ratings = movies_titles_df.join(imdb_ratings_df, movies_titles_df.imdb_title_id == imdb_ratings_df.tconst, \"left\") \\\n",
    "        .join(tmdb_movies_df, movies_titles_df.imdb_title_id == tmdb_movies_df.imdb_id, \"left\") \\\n",
    "        .select(\n",
    "        \"imdb_title_id\",\n",
    "        movies_titles_df.title,\n",
    "        \"region\",\n",
    "        \"language\",\n",
    "        \"start_year\",\n",
    "        col(\"numVotes\").alias(\"imdb_total_votes\"),\n",
    "        col(\"averageRating\").alias(\"imdb_avg_rating\"),\n",
    "        col(\"vote_count\").alias(\"tmdb_total_votes\"),\n",
    "        col(\"vote_average\").alias(\"tmdb_avg_rating\")\n",
    ")\n",
    "\n",
    "movies_ratings.printSchema()"
   ]
  },
  {
   "cell_type": "code",
   "execution_count": 25,
   "metadata": {
    "editable": true
   },
   "outputs": [],
   "source": [
    "#IMDB Ratings table write parquet\n",
    "movies_ratings.write.partitionBy(\"region\", \"start_year\").format(\"parquet\").save(output_dir + '/movies_ratings', mode=\"overwrite\")"
   ]
  },
  {
   "cell_type": "code",
   "execution_count": 26,
   "metadata": {
    "editable": true
   },
   "outputs": [
    {
     "name": "stdout",
     "output_type": "stream",
     "text": [
      "root\n",
      " |-- nconst: string (nullable = true)\n",
      " |-- primaryName: string (nullable = true)\n",
      " |-- birthYear: string (nullable = true)\n",
      " |-- deathYear: string (nullable = true)\n",
      " |-- primaryProfession: string (nullable = true)\n",
      " |-- knownForTitles: string (nullable = true)\n",
      "\n"
     ]
    }
   ],
   "source": [
    "imdb_names_df = spark.read.option(\"header\", \"true\").csv(imdb_input + '/name.basics.tsv.gz', sep='\\t')\n",
    "imdb_names_df.printSchema()"
   ]
  },
  {
   "cell_type": "code",
   "execution_count": 32,
   "metadata": {
    "editable": true
   },
   "outputs": [],
   "source": [
    "movie_title_ids = movies_titles.select(\"imdb_title_id\").distinct() \\\n",
    "        .rdd.map(lambda row: row['imdb_title_id']).collect()"
   ]
  },
  {
   "cell_type": "code",
   "execution_count": 33,
   "metadata": {
    "editable": true
   },
   "outputs": [],
   "source": [
    "imdb_principals_df = spark.read.options(header=True, inferSchema=True, nullValue=\"\\\\N\").csv(\n",
    "        imdb_input + '/title.principals.tsv.gz', sep='\\t')"
   ]
  },
  {
   "cell_type": "code",
   "execution_count": 34,
   "metadata": {
    "editable": true
   },
   "outputs": [
    {
     "name": "stdout",
     "output_type": "stream",
     "text": [
      "root\n",
      " |-- imdb_title_id: string (nullable = true)\n",
      " |-- ordering: integer (nullable = true)\n",
      " |-- imdb_name_id: string (nullable = true)\n",
      " |-- category: string (nullable = true)\n",
      " |-- job: string (nullable = true)\n",
      " |-- characters: string (nullable = true)\n",
      "\n"
     ]
    }
   ],
   "source": [
    "imdb_principal_crew = imdb_principals_df.select(\n",
    "        col(\"tconst\").alias(\"imdb_title_id\"),\n",
    "        \"ordering\",\n",
    "        col(\"nconst\").alias(\"imdb_name_id\"),\n",
    "        \"category\",\n",
    "        \"job\",\n",
    "        \"characters\"\n",
    "    ).filter(imdb_principals_df['tconst'].isin(movie_title_ids))\n",
    "\n",
    "imdb_principal_crew.printSchema()"
   ]
  },
  {
   "cell_type": "code",
   "execution_count": 35,
   "metadata": {
    "editable": true
   },
   "outputs": [],
   "source": [
    "imdb_principal_crew.write.partitionBy(\"imdb_title_id\").format(\"parquet\") \\\n",
    "        .save(output_dir + '/movies_principal_crew', mode=\"overwrite\")"
   ]
  },
  {
   "cell_type": "code",
   "execution_count": 36,
   "metadata": {
    "editable": true
   },
   "outputs": [],
   "source": [
    "movie_crew_name_ids = imdb_principal_crew.select(\"imdb_name_id\").distinct() \\\n",
    "        .rdd.map(lambda row: row['imdb_name_id']).collect()"
   ]
  },
  {
   "cell_type": "code",
   "execution_count": 37,
   "metadata": {
    "editable": true
   },
   "outputs": [],
   "source": [
    "imdb_names_df = spark.read.options(header=True, inferSchema=True, nullValue=\"\\\\N\").csv(\n",
    "        imdb_input + '/name.basics.tsv.gz', sep='\\t')"
   ]
  },
  {
   "cell_type": "code",
   "execution_count": 38,
   "metadata": {
    "editable": true
   },
   "outputs": [
    {
     "name": "stdout",
     "output_type": "stream",
     "text": [
      "root\n",
      " |-- imdb_name_id: string (nullable = true)\n",
      " |-- primary_name: string (nullable = true)\n",
      " |-- birth_year: integer (nullable = true)\n",
      " |-- death_year: integer (nullable = true)\n",
      " |-- primary_profession: string (nullable = true)\n",
      " |-- known_for_titles: string (nullable = true)\n",
      "\n"
     ]
    }
   ],
   "source": [
    "imdb_crew_names = imdb_names_df.select(\n",
    "        col(\"nconst\").alias(\"imdb_name_id\"),\n",
    "        col(\"primaryName\").alias(\"primary_name\"),\n",
    "        col(\"birthYear\").alias(\"birth_year\"),\n",
    "        col(\"deathYear\").alias(\"death_year\"),\n",
    "        col(\"primaryProfession\").alias(\"primary_profession\"),\n",
    "        col(\"knownForTitles\").alias(\"known_for_titles\")\n",
    "    ).filter(imdb_names_df['nconst'].isin(movie_crew_name_ids))\n",
    "\n",
    "imdb_crew_names.printSchema()"
   ]
  },
  {
   "cell_type": "code",
   "execution_count": 39,
   "metadata": {
    "editable": true
   },
   "outputs": [],
   "source": [
    "imdb_crew_names.write.partitionBy(\"birth_year\").format(\"parquet\") \\\n",
    "        .save(output_dir + '/movies_crew_names', mode=\"overwrite\")"
   ]
  },
  {
   "cell_type": "code",
   "execution_count": null,
   "metadata": {
    "editable": true
   },
   "outputs": [],
   "source": []
  },
  {
   "cell_type": "code",
   "execution_count": 52,
   "metadata": {
    "editable": true
   },
   "outputs": [
    {
     "name": "stdout",
     "output_type": "stream",
     "text": [
      "root\n",
      " |-- imdb_title_id: string (nullable = true)\n",
      " |-- title: string (nullable = true)\n",
      " |-- language: string (nullable = true)\n",
      " |-- region: string (nullable = true)\n",
      " |-- start_year: integer (nullable = true)\n",
      " |-- revenue: long (nullable = true)\n",
      " |-- budget: long (nullable = true)\n",
      "\n"
     ]
    }
   ],
   "source": [
    "#Movie finance\n",
    "movies_finances = movies_titles_df\\\n",
    "        .join(tmdb_movies_df, movies_titles_df.imdb_title_id == tmdb_movies_df.imdb_id, \"left\")\\\n",
    "        .select(\n",
    "            col(\"imdb_title_id\"),\n",
    "            movies_titles_df.title,\n",
    "            movies_titles_df.language,\n",
    "            movies_titles_df.region,\n",
    "            movies_titles_df.start_year,\n",
    "            col(\"revenue\"),\n",
    "            col(\"budget\")\n",
    "        )\n",
    "\n",
    "movies_finances.printSchema()"
   ]
  },
  {
   "cell_type": "code",
   "execution_count": 53,
   "metadata": {
    "editable": true
   },
   "outputs": [],
   "source": [
    "movies_finances.write.partitionBy(\"region\", \"start_year\").format(\"parquet\").save(output_dir + '/movies_finances', mode=\"overwrite\")"
   ]
  },
  {
   "cell_type": "code",
   "execution_count": 42,
   "metadata": {
    "editable": true
   },
   "outputs": [],
   "source": [
    "movies_ratings = spark.read.parquet(output_dir + \"/movies_ratings\")"
   ]
  },
  {
   "cell_type": "code",
   "execution_count": 43,
   "metadata": {
    "editable": true
   },
   "outputs": [
    {
     "name": "stdout",
     "output_type": "stream",
     "text": [
      "root\n",
      " |-- imdb_title_id: string (nullable = true)\n",
      " |-- title: string (nullable = true)\n",
      " |-- language: string (nullable = true)\n",
      " |-- imdb_total_votes: integer (nullable = true)\n",
      " |-- imdb_avg_rating: double (nullable = true)\n",
      " |-- tmdb_total_votes: long (nullable = true)\n",
      " |-- tmdb_avg_rating: double (nullable = true)\n",
      " |-- region: string (nullable = true)\n",
      " |-- start_year: integer (nullable = true)\n",
      "\n"
     ]
    }
   ],
   "source": [
    "movies_ratings.printSchema()"
   ]
  },
  {
   "cell_type": "code",
   "execution_count": 44,
   "metadata": {
    "editable": true
   },
   "outputs": [],
   "source": [
    "movies_ratings.createOrReplaceTempView(\"movies_ratings\")"
   ]
  },
  {
   "cell_type": "code",
   "execution_count": 45,
   "metadata": {
    "editable": true
   },
   "outputs": [],
   "source": [
    "# Top American english movies\n",
    "top_american_english_movies = spark.sql('''SELECT \n",
    "              imdb_title_id, \n",
    "              collect_list(title) as title, \n",
    "              imdb_total_votes, \n",
    "              imdb_avg_rating, \n",
    "              region, \n",
    "              language, \n",
    "              start_year \n",
    "            FROM movies_ratings \n",
    "            WHERE language IS NULL OR language = 'en' \n",
    "            GROUP BY \n",
    "              imdb_title_id, \n",
    "              imdb_total_votes, \n",
    "              imdb_avg_rating, \n",
    "              region, \n",
    "              language, \n",
    "              start_year \n",
    "            ORDER BY imdb_total_votes DESC''')"
   ]
  },
  {
   "cell_type": "code",
   "execution_count": 46,
   "metadata": {
    "editable": true
   },
   "outputs": [
    {
     "name": "stdout",
     "output_type": "stream",
     "text": [
      "+-------------+-------------------------------------+----------------+---------------+------+--------+----------+\n",
      "|imdb_title_id|title                                |imdb_total_votes|imdb_avg_rating|region|language|start_year|\n",
      "+-------------+-------------------------------------+----------------+---------------+------+--------+----------+\n",
      "|tt8097030    |[Turning Red]                        |30376           |7.1            |US    |en      |2022      |\n",
      "|tt9848626    |[Hotel Transylvania 4: Transformania]|23549           |6.0            |US    |en      |2022      |\n",
      "|tt11466222   |[Jackass Forever]                    |13327           |7.5            |US    |en      |2022      |\n",
      "|tt18096250   |[Taylor Tomlinson: Look at You]      |789             |7.4            |US    |en      |2022      |\n",
      "|tt12655436   |[Honk for Jesus. Save Your Soul.]    |123             |6.6            |US    |en      |2022      |\n",
      "|tt9193690    |[Seize the Night]                    |71              |4.3            |US    |en      |2022      |\n",
      "|tt15239696   |[The Swedish Scarf]                  |null            |null           |US    |en      |2022      |\n",
      "|tt13658952   |[Nightmares]                         |null            |null           |US    |en      |2022      |\n",
      "|tt10298810   |[Lightyear]                          |null            |null           |US    |en      |2022      |\n",
      "|tt9307862    |[Forgotten Word]                     |null            |null           |US    |en      |2022      |\n",
      "+-------------+-------------------------------------+----------------+---------------+------+--------+----------+\n",
      "only showing top 10 rows\n",
      "\n"
     ]
    }
   ],
   "source": [
    "top_american_english_movies.show(10, False)"
   ]
  },
  {
   "cell_type": "code",
   "execution_count": 56,
   "metadata": {
    "editable": true
   },
   "outputs": [],
   "source": [
    "movies_finances = spark.read.parquet(output_dir + '/movies_finances')"
   ]
  },
  {
   "cell_type": "code",
   "execution_count": 57,
   "metadata": {
    "editable": true
   },
   "outputs": [],
   "source": [
    "movies_finances.createOrReplaceTempView(\"movies_finances\")"
   ]
  },
  {
   "cell_type": "code",
   "execution_count": 58,
   "metadata": {
    "editable": true
   },
   "outputs": [],
   "source": [
    "top_grossing_american_english_movies = spark.sql('''\n",
    "    SELECT \n",
    "      imdb_title_id, \n",
    "      collect_list(title) as title, \n",
    "      revenue, \n",
    "      budget, \n",
    "      region, \n",
    "      language, \n",
    "      start_year \n",
    "    FROM \n",
    "      movies_finances \n",
    "    WHERE revenue IS NOT NULL AND (language IS NULL OR language = 'en') \n",
    "    GROUP BY \n",
    "      imdb_title_id, \n",
    "      revenue, \n",
    "      budget, \n",
    "      region, \n",
    "      language, \n",
    "      start_year \n",
    "    ORDER BY revenue DESC\n",
    "''')"
   ]
  },
  {
   "cell_type": "code",
   "execution_count": 59,
   "metadata": {
    "editable": true
   },
   "outputs": [
    {
     "name": "stdout",
     "output_type": "stream",
     "text": [
      "+-------------+-----+-------+------+------+--------+----------+\n",
      "|imdb_title_id|title|revenue|budget|region|language|start_year|\n",
      "+-------------+-----+-------+------+------+--------+----------+\n",
      "+-------------+-----+-------+------+------+--------+----------+\n",
      "\n"
     ]
    }
   ],
   "source": [
    "top_grossing_american_english_movies.show(10, False)"
   ]
  },
  {
   "cell_type": "code",
   "execution_count": null,
   "metadata": {
    "editable": true
   },
   "outputs": [],
   "source": []
  }
 ],
 "metadata": {
  "kernelspec": {
   "display_name": "Python 3",
   "language": "python",
   "name": "python3"
  },
  "language_info": {
   "codemirror_mode": {
    "name": "ipython",
    "version": 3
   },
   "file_extension": ".py",
   "mimetype": "text/x-python",
   "name": "python",
   "nbconvert_exporter": "python",
   "pygments_lexer": "ipython3",
   "version": "3.6.3"
  }
 },
 "nbformat": 4,
 "nbformat_minor": 4
}
